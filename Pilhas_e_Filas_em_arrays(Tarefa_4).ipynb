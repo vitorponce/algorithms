{
  "nbformat": 4,
  "nbformat_minor": 0,
  "metadata": {
    "colab": {
      "name": "Pilhas e Filas em arrays(Tarefa 4).ipynb",
      "provenance": [],
      "collapsed_sections": [],
      "include_colab_link": true
    },
    "kernelspec": {
      "name": "python3",
      "display_name": "Python 3"
    }
  },
  "cells": [
    {
      "cell_type": "markdown",
      "metadata": {
        "id": "view-in-github",
        "colab_type": "text"
      },
      "source": [
        "<a href=\"https://colab.research.google.com/github/vitorponce/algorithms/blob/master/Pilhas_e_Filas_em_arrays(Tarefa_4).ipynb\" target=\"_parent\"><img src=\"https://colab.research.google.com/assets/colab-badge.svg\" alt=\"Open In Colab\"/></a>"
      ]
    },
    {
      "cell_type": "markdown",
      "metadata": {
        "id": "8_q-8uYa0-hH",
        "colab_type": "text"
      },
      "source": []
    },
    {
      "cell_type": "markdown",
      "metadata": {
        "id": "CTUO4IexjdGy",
        "colab_type": "text"
      },
      "source": [
        "## 1 - Em uma equação matemática, cada parêntese aberto deve ser fechado\n",
        "\n",
        "## -->Escrever código em Python usando a TAD pilha que:\n",
        "\n",
        "## I- Recebe uma equação com um número qualquer de parênteses.\n",
        " \n",
        "## II- Retorna se todo parêntese aberto foi fechado (ou todo fechado foi aberto) e quantas vezes isso ocorreu."
      ]
    },
    {
      "cell_type": "code",
      "metadata": {
        "id": "3hPB0hHjj7E3",
        "colab_type": "code",
        "outputId": "56fad53b-93eb-44f1-8048-7d9711071950",
        "colab": {
          "base_uri": "https://localhost:8080/",
          "height": 272
        }
      },
      "source": [
        "from queue import LifoQueue\n",
        "equation = input(\"Insira aqui a equação a ser avaliada: \\n\")\n",
        "\n",
        "def evaluateEq(equation):\n",
        "\n",
        "  # Initializing a queue \n",
        "  stack = LifoQueue()\n",
        "  balanced = 0\n",
        "  for i in range(len(equation)):\n",
        "    if(equation[i]) == (\"(\"):\n",
        "      stack.put(equation[i])\n",
        "      balanced += 1\n",
        "    elif(equation[i]) == (\")\"):\n",
        "      stack.put(equation[i])\n",
        "      balanced -= 1\n",
        "  print(\"Se a equação retorna 0, está balanceada.\")\n",
        "  print(\"Se a equação retorna um número positivo, significa que algo que foi aberto,\\n permaneceu em aberto \\n \\n \")\n",
        "  print(\"Se a equação retorna um número negativo, significa que algo ainda não foi aberto\\n ou foi fechado desnecessariamente \\n \\n \")\n",
        "  \n",
        "  if(balanced==0):\n",
        "    print(\"Todo parêntese foi fechado\\n\")\n",
        "  elif(balanced<0):\n",
        "    print(\"Algum parêntese não foi aberto\\n\")\n",
        "  else:\n",
        "    print(\"Algum parêntese deixou de ser fechado\\n\")\n",
        "  \n",
        "  if(balanced > 0):\n",
        "    print(\"O número de parênteses que faltam ser fechados é: \\n\", balanced)\n",
        "  elif(balanced < 0 ):\n",
        "    print(\"O número de parênteses que ainda faltam ser abertos, ou foram fechados desnecessariamente, é(são): \\n\", abs(balanced))\n",
        "  else:\n",
        "    print(\"A equação está balanceada\\n\")\n",
        "evaluateEq(equation)"
      ],
      "execution_count": 0,
      "outputs": [
        {
          "output_type": "stream",
          "text": [
            "Insira aqui a equação a ser avaliada: \n",
            "(((((()))))))))\n",
            "Se a equação retorna 0, está balanceada.\n",
            "Se a equação retorna um número positivo, significa que algo que foi aberto,\n",
            " permaneceu em aberto \n",
            " \n",
            " \n",
            "Se a equação retorna um número negativo, significa que algo ainda não foi aberto\n",
            " ou foi fechado desnecessariamente \n",
            " \n",
            " \n",
            "Algum parêntese não foi aberto\n",
            "\n",
            "O número de parênteses que ainda faltam ser abertos, ou foram fechados desnecessariamente, é(são): \n",
            " 3\n"
          ],
          "name": "stdout"
        }
      ]
    },
    {
      "cell_type": "markdown",
      "metadata": {
        "id": "5twFxzIPlyNl",
        "colab_type": "text"
      },
      "source": [
        "## 2 - Escrever e testar um método de impressão para imprimir o conteúdo de uma fila(Queue)"
      ]
    },
    {
      "cell_type": "code",
      "metadata": {
        "id": "vfDfqN4Fl9La",
        "colab_type": "code",
        "outputId": "38873d0b-290b-4bdf-fa3d-fdbcb4ad250b",
        "colab": {
          "base_uri": "https://localhost:8080/",
          "height": 221
        }
      },
      "source": [
        "fila = input(\"Insira aqui, uma sequência de valores, números ou não: \\n\")\n",
        "# Python program to \n",
        "# demonstrate stack implementation \n",
        "# using list\n",
        "\n",
        "stack = [] \n",
        "\n",
        "# append() function to push \n",
        "# element in the stack \n",
        "for i in range(len(fila)):\n",
        "  stack.append(fila[i])\n",
        "\n",
        "print('Pilha inicial') \n",
        "print(stack) \n",
        "\n",
        "# pop() fucntion to pop \n",
        "# element from stack in \n",
        "# LIFO order \n",
        "print('\\n Elementos retirados da pilha:') \n",
        "for j in range(len(fila)):\n",
        "  print(stack.pop())\n",
        "\n",
        "print('\\nPilha após elementos retirados:') \n",
        "print(stack) \n",
        "\n",
        "# uncommenting print(stack.pop()) \n",
        "# will cause an IndexError \n",
        "# as the stack is now empty \n"
      ],
      "execution_count": 0,
      "outputs": [
        {
          "output_type": "stream",
          "text": [
            "Insira aqui, uma sequência de valores, números ou não: \n",
            "123\n",
            "Pilha inicial\n",
            "['1', '2', '3']\n",
            "\n",
            " Elementos retirados da pilha:\n",
            "3\n",
            "2\n",
            "1\n",
            "\n",
            "Pilha após elementos retirados:\n",
            "[]\n"
          ],
          "name": "stdout"
        }
      ]
    },
    {
      "cell_type": "markdown",
      "metadata": {
        "id": "BZKXi4lvmR0-",
        "colab_type": "text"
      },
      "source": [
        "## 3 - Escrever e testar código Python para implementar as funções da estrutura *dequeue*\n",
        "\n",
        "## --Além de uma função de impressão"
      ]
    },
    {
      "cell_type": "code",
      "metadata": {
        "id": "JObgK64r1dL_",
        "colab_type": "code",
        "outputId": "44e5d021-c1d9-4a73-f933-5ff54f2d7929",
        "colab": {
          "base_uri": "https://localhost:8080/",
          "height": 67
        }
      },
      "source": [
        "from collections import deque\n",
        "\n",
        "# Cria uma fila com três elementos.\n",
        "fila = deque([\"Banana\", \"Maçã\", \"Pera\"])\n",
        "print(\"Fila: \", fila)\n",
        "\n",
        "# Adiciona um elemento ao final da fila.\n",
        "fila.append(\"Uva\")\n",
        "print(\"Adicionando um elemento: \", fila)\n",
        "\n",
        "# Remove o primeiro elemento adicionado à fila.\n",
        "fila.popleft()\n",
        "print(\"Removendo um elemento: \", fila)"
      ],
      "execution_count": 0,
      "outputs": [
        {
          "output_type": "stream",
          "text": [
            "Fila:  deque(['Banana', 'Maçã', 'Pera'])\n",
            "Adicionando um elemento:  deque(['Banana', 'Maçã', 'Pera', 'Uva'])\n",
            "Removendo um elemento:  deque(['Maçã', 'Pera', 'Uva'])\n"
          ],
          "name": "stdout"
        }
      ]
    }
  ]
}
